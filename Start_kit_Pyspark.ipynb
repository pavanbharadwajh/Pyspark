{
 "cells": [
  {
   "cell_type": "code",
   "execution_count": 11,
   "metadata": {},
   "outputs": [],
   "source": [
    "from pyspark import SparkContext\n",
    "sc = SparkContext()\n",
    "data = range(1,1000)\n",
    "rdd = sc.parallelize(data)"
   ]
  },
  {
   "cell_type": "code",
   "execution_count": 12,
   "metadata": {},
   "outputs": [],
   "source": [
    "#rdd.collect()"
   ]
  },
  {
   "cell_type": "code",
   "execution_count": 13,
   "metadata": {},
   "outputs": [
    {
     "data": {
      "text/plain": [
       "[1, 2, 3, 4, 5, 6, 7, 8, 9, 10]"
      ]
     },
     "execution_count": 13,
     "metadata": {},
     "output_type": "execute_result"
    }
   ],
   "source": [
    "rdd.take(10)"
   ]
  },
  {
   "cell_type": "code",
   "execution_count": 14,
   "metadata": {},
   "outputs": [],
   "source": [
    "data1 = ['Hello' , 'I' , 'AM', 'Pavan ', 'bharadwaj']\n",
    "Rdd = sc.parallelize(data1)"
   ]
  },
  {
   "cell_type": "code",
   "execution_count": 15,
   "metadata": {},
   "outputs": [],
   "source": [
    "Rdd1 = Rdd.map(lambda x: (x,1))"
   ]
  },
  {
   "cell_type": "code",
   "execution_count": 16,
   "metadata": {},
   "outputs": [
    {
     "data": {
      "text/plain": [
       "[('Hello', 1), ('I', 1), ('AM', 1), ('Pavan ', 1), ('bharadwaj', 1)]"
      ]
     },
     "execution_count": 16,
     "metadata": {},
     "output_type": "execute_result"
    }
   ],
   "source": [
    "Rdd1.collect()"
   ]
  },
  {
   "cell_type": "code",
   "execution_count": 17,
   "metadata": {},
   "outputs": [],
   "source": [
    "from pyspark.sql import SQLContext\n",
    "sqlContext = SQLContext(sc)"
   ]
  },
  {
   "cell_type": "code",
   "execution_count": 18,
   "metadata": {
    "scrolled": true
   },
   "outputs": [],
   "source": [
    "rd = sc.textFile(\"blogtexts.txt\")"
   ]
  },
  {
   "cell_type": "code",
   "execution_count": 38,
   "metadata": {
    "scrolled": false
   },
   "outputs": [],
   "source": [
    "#prints the content from the text file.\n",
    "#rd.collect()"
   ]
  },
  {
   "cell_type": "code",
   "execution_count": 20,
   "metadata": {},
   "outputs": [],
   "source": [
    "def func(lines):\n",
    "    lines = lines.lower()\n",
    "    lines = lines.split()\n",
    "    return lines    "
   ]
  },
  {
   "cell_type": "code",
   "execution_count": 21,
   "metadata": {},
   "outputs": [],
   "source": [
    "#Transformation map and Flatmap\n",
    "rdm = rd.map(func)\n",
    "rdfm =rd.flatMap(func)"
   ]
  },
  {
   "cell_type": "code",
   "execution_count": 22,
   "metadata": {
    "scrolled": false
   },
   "outputs": [],
   "source": [
    "#rdm.take(5)"
   ]
  },
  {
   "cell_type": "code",
   "execution_count": 23,
   "metadata": {},
   "outputs": [
    {
     "data": {
      "text/plain": [
       "['think', 'of', 'it', 'for', 'a']"
      ]
     },
     "execution_count": 23,
     "metadata": {},
     "output_type": "execute_result"
    }
   ],
   "source": [
    "rdfm.take(5)"
   ]
  },
  {
   "cell_type": "code",
   "execution_count": 24,
   "metadata": {},
   "outputs": [],
   "source": [
    "#Remove softwords to add value to text\n",
    "stopwords = ['or','and', 'at', 'for', 'I', 'will' , 'a']\n",
    "rdf = rdm.filter(lambda x: x not in stopwords)\n",
    "#rdf.take(5)"
   ]
  },
  {
   "cell_type": "code",
   "execution_count": 25,
   "metadata": {},
   "outputs": [],
   "source": [
    "def count_func(iterator):\n",
    "  count_spark = 0\n",
    "  count_apache = 0\n",
    "  for i in iterator:\n",
    "     if i =='spark':\n",
    "        count_spark = count_spark + 1\n",
    "     if i == 'apache':\n",
    "        count_apache = count_apache + 1\n",
    "  return (count_spark,count_apache)"
   ]
  },
  {
   "cell_type": "code",
   "execution_count": 26,
   "metadata": {},
   "outputs": [
    {
     "data": {
      "text/plain": [
       "[[0, 0], [0, 0]]"
      ]
     },
     "execution_count": 26,
     "metadata": {},
     "output_type": "execute_result"
    }
   ],
   "source": [
    "#to run function on each partitions we use rdd3.mapPartitions\n",
    "rdf.mapPartitions(count_func).glom().collect()"
   ]
  },
  {
   "cell_type": "code",
   "execution_count": 27,
   "metadata": {},
   "outputs": [
    {
     "data": {
      "text/plain": [
       "2"
      ]
     },
     "execution_count": 27,
     "metadata": {},
     "output_type": "execute_result"
    }
   ],
   "source": [
    "rd.getNumPartitions()"
   ]
  },
  {
   "cell_type": "code",
   "execution_count": 28,
   "metadata": {},
   "outputs": [],
   "source": [
    "#creating DataFrame from rdd\n",
    "from pyspark.sql import Row"
   ]
  },
  {
   "cell_type": "code",
   "execution_count": 29,
   "metadata": {},
   "outputs": [
    {
     "data": {
      "text/plain": [
       "pyspark.sql.dataframe.DataFrame"
      ]
     },
     "execution_count": 29,
     "metadata": {},
     "output_type": "execute_result"
    }
   ],
   "source": [
    "l = [('Ankit',25),('Jalfaizy',22),('saurabh',20),('Bala',26)]\n",
    "rdd = sc.parallelize(l)\n",
    "people = rdd.map(lambda x: Row(name=x[0], age=int(x[1])))\n",
    "schemaPeople = sqlContext.createDataFrame(people)\n",
    "type(schemaPeople)"
   ]
  },
  {
   "cell_type": "code",
   "execution_count": 30,
   "metadata": {},
   "outputs": [],
   "source": [
    "sqlContext = SQLContext(sc)"
   ]
  },
  {
   "cell_type": "code",
   "execution_count": 31,
   "metadata": {},
   "outputs": [],
   "source": [
    "train = sqlContext.read.format(\"csv\").load(\"train.csv\", header =True, inferSchema = True)"
   ]
  },
  {
   "cell_type": "code",
   "execution_count": 32,
   "metadata": {},
   "outputs": [
    {
     "data": {
      "text/plain": [
       "<bound method DataFrame.printSchema of DataFrame[User_ID: int, Product_ID: string, Gender: string, Age: string, Occupation: int, City_Category: string, Stay_In_Current_City_Years: string, Marital_Status: int, Product_Category_1: int, Product_Category_2: int, Product_Category_3: int, Purchase: int]>"
      ]
     },
     "execution_count": 32,
     "metadata": {},
     "output_type": "execute_result"
    }
   ],
   "source": [
    "train.printSchema"
   ]
  },
  {
   "cell_type": "code",
   "execution_count": 33,
   "metadata": {},
   "outputs": [],
   "source": [
    "test = sqlContext.read.format(\"csv\").load(\"test.csv\", header =True,inferSchema =True)"
   ]
  },
  {
   "cell_type": "code",
   "execution_count": 34,
   "metadata": {},
   "outputs": [
    {
     "data": {
      "text/plain": [
       "<bound method DataFrame.printSchema of DataFrame[User_ID: int, Product_ID: string, Gender: string, Age: string, Occupation: int, City_Category: string, Stay_In_Current_City_Years: string, Marital_Status: int, Product_Category_1: int, Product_Category_2: int, Product_Category_3: int]>"
      ]
     },
     "execution_count": 34,
     "metadata": {},
     "output_type": "execute_result"
    }
   ],
   "source": [
    "test.printSchema"
   ]
  },
  {
   "cell_type": "code",
   "execution_count": 35,
   "metadata": {},
   "outputs": [
    {
     "name": "stdout",
     "output_type": "stream",
     "text": [
      "+-------+----------+------+-----+----------+-------------+--------------------------+--------------+------------------+------------------+------------------+--------+\n",
      "|User_ID|Product_ID|Gender|  Age|Occupation|City_Category|Stay_In_Current_City_Years|Marital_Status|Product_Category_1|Product_Category_2|Product_Category_3|Purchase|\n",
      "+-------+----------+------+-----+----------+-------------+--------------------------+--------------+------------------+------------------+------------------+--------+\n",
      "|1000001| P00069042|     F| 0-17|        10|            A|                         2|             0|                 3|              null|              null|    8370|\n",
      "|1000001| P00248942|     F| 0-17|        10|            A|                         2|             0|                 1|                 6|                14|   15200|\n",
      "|1000001| P00087842|     F| 0-17|        10|            A|                         2|             0|                12|              null|              null|    1422|\n",
      "|1000001| P00085442|     F| 0-17|        10|            A|                         2|             0|                12|                14|              null|    1057|\n",
      "|1000002| P00285442|     M|  55+|        16|            C|                        4+|             0|                 8|              null|              null|    7969|\n",
      "|1000003| P00193542|     M|26-35|        15|            A|                         3|             0|                 1|                 2|              null|   15227|\n",
      "|1000004| P00184942|     M|46-50|         7|            B|                         2|             1|                 1|                 8|                17|   19215|\n",
      "|1000004| P00346142|     M|46-50|         7|            B|                         2|             1|                 1|                15|              null|   15854|\n",
      "|1000004|  P0097242|     M|46-50|         7|            B|                         2|             1|                 1|                16|              null|   15686|\n",
      "|1000005| P00274942|     M|26-35|        20|            A|                         1|             1|                 8|              null|              null|    7871|\n",
      "|1000005| P00251242|     M|26-35|        20|            A|                         1|             1|                 5|                11|              null|    5254|\n",
      "|1000005| P00014542|     M|26-35|        20|            A|                         1|             1|                 8|              null|              null|    3957|\n",
      "|1000005| P00031342|     M|26-35|        20|            A|                         1|             1|                 8|              null|              null|    6073|\n",
      "|1000005| P00145042|     M|26-35|        20|            A|                         1|             1|                 1|                 2|                 5|   15665|\n",
      "|1000006| P00231342|     F|51-55|         9|            A|                         1|             0|                 5|                 8|                14|    5378|\n",
      "|1000006| P00190242|     F|51-55|         9|            A|                         1|             0|                 4|                 5|              null|    2079|\n",
      "|1000006|  P0096642|     F|51-55|         9|            A|                         1|             0|                 2|                 3|                 4|   13055|\n",
      "|1000006| P00058442|     F|51-55|         9|            A|                         1|             0|                 5|                14|              null|    8851|\n",
      "|1000007| P00036842|     M|36-45|         1|            B|                         1|             1|                 1|                14|                16|   11788|\n",
      "|1000008| P00249542|     M|26-35|        12|            C|                        4+|             1|                 1|                 5|                15|   19614|\n",
      "|1000008| P00220442|     M|26-35|        12|            C|                        4+|             1|                 5|                14|              null|    8584|\n",
      "|1000008| P00156442|     M|26-35|        12|            C|                        4+|             1|                 8|              null|              null|    9872|\n",
      "|1000008| P00213742|     M|26-35|        12|            C|                        4+|             1|                 8|              null|              null|    9743|\n",
      "|1000008| P00214442|     M|26-35|        12|            C|                        4+|             1|                 8|              null|              null|    5982|\n",
      "|1000008| P00303442|     M|26-35|        12|            C|                        4+|             1|                 1|                 8|                14|   11927|\n",
      "|1000009| P00135742|     M|26-35|        17|            C|                         0|             0|                 6|                 8|              null|   16662|\n",
      "|1000009| P00039942|     M|26-35|        17|            C|                         0|             0|                 8|              null|              null|    5887|\n",
      "|1000009| P00161442|     M|26-35|        17|            C|                         0|             0|                 5|                14|              null|    6973|\n",
      "|1000009| P00078742|     M|26-35|        17|            C|                         0|             0|                 5|                 8|                14|    5391|\n",
      "|1000010| P00085942|     F|36-45|         1|            B|                        4+|             1|                 2|                 4|                 8|   16352|\n",
      "|1000010| P00118742|     F|36-45|         1|            B|                        4+|             1|                 5|                11|              null|    8886|\n",
      "|1000010| P00297942|     F|36-45|         1|            B|                        4+|             1|                 8|              null|              null|    5875|\n",
      "|1000010| P00266842|     F|36-45|         1|            B|                        4+|             1|                 5|              null|              null|    8854|\n",
      "|1000010| P00058342|     F|36-45|         1|            B|                        4+|             1|                 3|                 4|              null|   10946|\n",
      "|1000010| P00032442|     F|36-45|         1|            B|                        4+|             1|                 5|              null|              null|    5152|\n",
      "|1000010| P00105942|     F|36-45|         1|            B|                        4+|             1|                 5|              null|              null|    7089|\n",
      "|1000010| P00182642|     F|36-45|         1|            B|                        4+|             1|                 2|                 4|                 9|   12909|\n",
      "|1000010| P00186942|     F|36-45|         1|            B|                        4+|             1|                 5|                12|              null|    8770|\n",
      "|1000010| P00155442|     F|36-45|         1|            B|                        4+|             1|                 1|                11|                15|   15212|\n",
      "|1000010| P00221342|     F|36-45|         1|            B|                        4+|             1|                 1|                 2|                 5|   15705|\n",
      "|1000010| P00087242|     F|36-45|         1|            B|                        4+|             1|                14|              null|              null|    7947|\n",
      "|1000010| P00111142|     F|36-45|         1|            B|                        4+|             1|                 1|                15|                16|   18963|\n",
      "|1000010| P00259342|     F|36-45|         1|            B|                        4+|             1|                 5|                 9|              null|    8718|\n",
      "|1000010|  P0094542|     F|36-45|         1|            B|                        4+|             1|                 2|                 4|                 9|   16406|\n",
      "|1000010| P00148642|     F|36-45|         1|            B|                        4+|             1|                 6|                10|                13|   12642|\n",
      "|1000010| P00312142|     F|36-45|         1|            B|                        4+|             1|                 8|              null|              null|   10007|\n",
      "|1000010| P00113242|     F|36-45|         1|            B|                        4+|             1|                 1|                 6|                 8|   11562|\n",
      "|1000011| P00192642|     F|26-35|         1|            C|                         1|             0|                 8|                17|              null|    6171|\n",
      "|1000011| P00110842|     F|26-35|         1|            C|                         1|             0|                 1|                 2|                 5|   19327|\n",
      "|1000011| P00189642|     F|26-35|         1|            C|                         1|             0|                 8|                13|              null|    8027|\n",
      "+-------+----------+------+-----+----------+-------------+--------------------------+--------------+------------------+------------------+------------------+--------+\n",
      "only showing top 50 rows\n",
      "\n"
     ]
    }
   ],
   "source": [
    "train.show(50,truncate= True)"
   ]
  },
  {
   "cell_type": "code",
   "execution_count": 36,
   "metadata": {},
   "outputs": [
    {
     "name": "stdout",
     "output_type": "stream",
     "text": [
      "+-------+------+\n",
      "|summary|   Age|\n",
      "+-------+------+\n",
      "|  count|550068|\n",
      "|   mean|  null|\n",
      "| stddev|  null|\n",
      "|    min|  0-17|\n",
      "|    max|   55+|\n",
      "+-------+------+\n",
      "\n"
     ]
    }
   ],
   "source": [
    "# to calculate the Summary (Mean, stddev, min, max, count) of the columuns \"describe\" is used.\n",
    "\n",
    "#train.describe().show()\n",
    "train.describe('Age').show()"
   ]
  },
  {
   "cell_type": "code",
   "execution_count": 37,
   "metadata": {},
   "outputs": [
    {
     "name": "stdout",
     "output_type": "stream",
     "text": [
      "+----+\n",
      "| Age|\n",
      "+----+\n",
      "|0-17|\n",
      "|0-17|\n",
      "|0-17|\n",
      "|0-17|\n",
      "| 55+|\n",
      "+----+\n",
      "only showing top 5 rows\n",
      "\n"
     ]
    }
   ],
   "source": [
    "#select columns  and distinct values\n",
    "# train.select('Age').distinct().count()\n",
    "train.select('Age').show(5)"
   ]
  }
 ],
 "metadata": {
  "kernelspec": {
   "display_name": "Python 3",
   "language": "python",
   "name": "python3"
  },
  "language_info": {
   "codemirror_mode": {
    "name": "ipython",
    "version": 3
   },
   "file_extension": ".py",
   "mimetype": "text/x-python",
   "name": "python",
   "nbconvert_exporter": "python",
   "pygments_lexer": "ipython3",
   "version": "3.6.2"
  }
 },
 "nbformat": 4,
 "nbformat_minor": 2
}
